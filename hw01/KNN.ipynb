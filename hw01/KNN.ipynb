{
 "cells": [
  {
   "cell_type": "markdown",
   "source": [
    "# Реализуем метод predict_proba для KNN"
   ],
   "metadata": {}
  },
  {
   "cell_type": "markdown",
   "source": [
    "Ниже реализован класс KNeighborsClassifier, который для поиска ближайших соседей использует sklearn.neighbors.NearestNeighbors\n",
    "\n",
    "Требуется реализовать метод predict_proba для вычисления ответа классификатора."
   ],
   "metadata": {}
  },
  {
   "cell_type": "code",
   "execution_count": 102,
   "source": [
    "import numpy as np\n",
    "\n",
    "from sklearn.base import BaseEstimator, ClassifierMixin\n",
    "from sklearn.neighbors import NearestNeighbors\n",
    "\n",
    "\n",
    "class KNeighborsClassifier(BaseEstimator, ClassifierMixin):\n",
    "    '''\n",
    "    Класс, который позволит нам изучить KNN\n",
    "    '''\n",
    "    def __init__(self, n_neighbors=5, weights='uniform', \n",
    "                 metric='minkowski', p=2):\n",
    "        '''\n",
    "        Инициализируем KNN с несколькими стандартными параметрами\n",
    "        '''\n",
    "        assert weights in ('uniform', 'distance')\n",
    "        \n",
    "        self.n_neighbors = n_neighbors\n",
    "        self.weights = weights\n",
    "        self.metric = metric\n",
    "        \n",
    "        self.NearestNeighbors = NearestNeighbors(\n",
    "            n_neighbors = n_neighbors,\n",
    "            metric = self.metric)\n",
    "    \n",
    "    def fit(self, X, y):\n",
    "        '''\n",
    "        Используем sklearn.neighbors.NearestNeighbors \n",
    "        для запоминания обучающей выборки\n",
    "        и последующего поиска соседей\n",
    "        '''\n",
    "        self.NearestNeighbors.fit(X)\n",
    "        \n",
    "        self.n_classes = len(np.unique(y))\n",
    "        self.y = y\n",
    "        \n",
    "    def predict_proba(self, X, use_first_zero_distant_sample=True):\n",
    "        '''\n",
    "        Чтобы реализовать этот метод, \n",
    "        изучите работу sklearn.neighbors.NearestNeighbors'''\n",
    "        \n",
    "        # получим здесь расстояния до соседей distances и их метки\n",
    "        distances, indicses = self.NearestNeighbors.fit(X).kneighbors(X)\n",
    "        #############################\n",
    "        if self.weights == 'uniform':\n",
    "            w = np.ones(distances.shape)\n",
    "        else:\n",
    "            # чтобы не делить на 0, \n",
    "            # добавим небольшую константу, например 1e-3\n",
    "            w = 1/(distances + 1e-3)\n",
    "        print(distances[1][0])\n",
    "        # print(y)\n",
    "        # реализуем вычисление предсказаний:\n",
    "        # выбрав один объект, для каждого класса посчитаем\n",
    "        # суммарный вес голосующих за него объектов\n",
    "        # затем нормируем эти веса на их сумму\n",
    "        # и вернем это как предсказание KNN\n",
    "\n",
    "        probs=np.zeros([len(X), self.n_classes])\n",
    "        for self_index, neighbor1, neighbor2, neighbor3, neighbor4 in indicses: # проходим по каждой точке и отмечаем её соседей\n",
    "            # print('первый индекс', self_index)\n",
    "            # print('у него класс:', y[self_index])\n",
    "            # print('первый сосед для него с индексом',neighbor1, 'и классом', y[neighbor1])\n",
    "            # print('первый вес:', w[self_index][0])\n",
    "            # сначала посчитаем суммарный вес всех 5 соседей\n",
    "            sum_w=sum(w[self_index])\n",
    "            # print('сумма весов', sum_w, 'число соседей', len(w[self_index]))\n",
    "            # print(probs.shape)\n",
    "            # print(set(y))\n",
    "            # теперь для каждего соседа узнаем его класс y[neighbor] и прибавим этот вес в нужную ячейку с классом\n",
    "            probs[self_index][y[self_index]] += w[self_index][0]\n",
    "            probs[self_index][y[neighbor1]] += w[self_index][1]\n",
    "            probs[self_index][y[neighbor2]] += w[self_index][2]\n",
    "            probs[self_index][y[neighbor3]] += w[self_index][3]\n",
    "            probs[self_index][y[neighbor4]] += w[self_index][4]\n",
    "            # нормализируем веса\n",
    "            probs[self_index]=probs[self_index]/sum_w\n",
    "        return probs"
   ],
   "outputs": [],
   "metadata": {}
  },
  {
   "cell_type": "markdown",
   "source": [
    "# Загрузим данные и обучим классификатор"
   ],
   "metadata": {}
  },
  {
   "cell_type": "code",
   "execution_count": 103,
   "source": [
    "from sklearn.datasets import load_iris\n",
    "X, y = load_iris(return_X_y=True)\n",
    "\n",
    "knn = KNeighborsClassifier(weights='distance')\n",
    "knn.fit(X, y)\n",
    "prediction = knn.predict_proba(X, y)"
   ],
   "outputs": [
    {
     "output_type": "stream",
     "name": "stdout",
     "text": [
      "0.0\n"
     ]
    }
   ],
   "metadata": {}
  },
  {
   "cell_type": "markdown",
   "source": [
    "Поскольку мы используем одну и ту же выборку для обучения и предсказания, ближайшим соседом любого объекта будет он же сам. В качестве упражнения предлагаю реализовать метод transform, который реализует получение предсказаний для обучающей выборки, но для каждого объекта не будет учитывать его самого.\n",
    "\n",
    "Посмотрим, в каких объектах max(prediction) != 1:"
   ],
   "metadata": {}
  },
  {
   "cell_type": "code",
   "execution_count": 105,
   "source": [
    "inds = np.arange(len(prediction))[prediction.max(1) != 1]\n",
    "print(inds)\n",
    "\n",
    "# [ 56  68  70  72  77  83 106 110 119 123 127 133 134 138 146]"
   ],
   "outputs": [
    {
     "output_type": "stream",
     "name": "stdout",
     "text": [
      "[ 56  68  70  72  77  83 101 106 110 119 123 127 133 134 138 142 146]\n"
     ]
    }
   ],
   "metadata": {}
  },
  {
   "cell_type": "markdown",
   "source": [
    "Несколько примеров, на которых можно проверить правильность реализованного метода:"
   ],
   "metadata": {}
  },
  {
   "cell_type": "code",
   "execution_count": 106,
   "source": [
    "for i in 1, 4, -1:\n",
    "    print(inds[i], prediction[inds[i]])\n",
    "\n",
    "# 68 [0.         0.99816311 0.00183689]\n",
    "# 77 [0.         0.99527902 0.00472098]\n",
    "# 146 [0.         0.00239145 0.99760855]"
   ],
   "outputs": [
    {
     "output_type": "stream",
     "name": "stdout",
     "text": [
      "68 [0.         0.99816311 0.00183689]\n",
      "77 [0.         0.99527902 0.00472098]\n",
      "146 [0.         0.00239145 0.99760855]\n"
     ]
    }
   ],
   "metadata": {}
  },
  {
   "cell_type": "markdown",
   "source": [
    "**Примечание:** отличие в третьем-четвертом знаке после запятой в тестах не должно повлиять на сдачу задания"
   ],
   "metadata": {}
  },
  {
   "cell_type": "markdown",
   "source": [
    "# Ответы для формы"
   ],
   "metadata": {}
  },
  {
   "cell_type": "markdown",
   "source": [
    "В форму требуется ввести max(prediction) для объекта. Если метод реализован верно, то ячейка ниже распечатает ответы, которые нужно ввести в форму"
   ],
   "metadata": {}
  },
  {
   "cell_type": "code",
   "execution_count": 107,
   "source": [
    "for i in 56, 83, 127:\n",
    "    print('{:.2f}'.format(max(prediction[i])))"
   ],
   "outputs": [
    {
     "output_type": "stream",
     "name": "stdout",
     "text": [
      "1.00\n",
      "0.99\n",
      "1.00\n"
     ]
    }
   ],
   "metadata": {}
  },
  {
   "cell_type": "code",
   "execution_count": null,
   "source": [],
   "outputs": [],
   "metadata": {}
  }
 ],
 "metadata": {
  "kernelspec": {
   "name": "python3",
   "display_name": "Python 3.9.0 64-bit ('dmia_base': pyenv)"
  },
  "language_info": {
   "codemirror_mode": {
    "name": "ipython",
    "version": 3
   },
   "file_extension": ".py",
   "mimetype": "text/x-python",
   "name": "python",
   "nbconvert_exporter": "python",
   "pygments_lexer": "ipython3",
   "version": "3.9.0"
  },
  "interpreter": {
   "hash": "393b95df2fdbfe04e652879be065732eb08edd5ce081031c9486a041f5a97733"
  }
 },
 "nbformat": 4,
 "nbformat_minor": 2
}